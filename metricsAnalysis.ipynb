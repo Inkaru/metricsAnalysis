{
 "cells": [
  {
   "cell_type": "code",
   "execution_count": 30,
   "metadata": {},
   "outputs": [],
   "source": [
    "import os\n",
    "import pandas as pd\n",
    "import matplotlib.pyplot as plt\n",
    "\n",
    "modules = [\"architecture\",\"cli\",\"gui\",\"logic\",\"migrations\",\"model\",\"pdfimport\",\"preferences\",\"styletester\",\"shared\",\"collab\",\"event\",\"external\",\"bst\",\"exporter\",\"importer\",\"specialfields\",\"sql\",\"util\"]\n",
    "versions = [\"3-4\",\"3-5\",\"3-6\",\"3-7\",\"3-8\",\"4-0\",\"4-1\",\"4-2\",\"4-3\",\"5-0\"]\n",
    "\n",
    "classMetrics = [\"CBO\",\"CSOA\",\"DIT\",\"LCOM\",\"MPC\",\"NOC\",\"OCavg\",\"OPavg\",\"RFC\",\"WMC\"]\n",
    "packageMetrics = [\"AC\",\"C\",\"Ca\",\"Ce\",\"D\",\"I\",\"LOC\"]"
   ]
  },
  {
   "cell_type": "code",
   "execution_count": 94,
   "metadata": {},
   "outputs": [],
   "source": [
    "classCollection = {}\n",
    "for v in versions:\n",
    "    data = pd.read_csv('./metrics/class' + v + \".csv\", skiprows=1)\n",
    "    for mod in modules:\n",
    "        rows = data[data[\"Class\"].str.contains(\"jabref.\" + mod)]\n",
    "        if(not(rows.empty)):\n",
    "            classCollection[mod + v] = rows.describe()\n",
    "            classCollection[mod + v][\"Module\"] = mod\n",
    "            classCollection[mod + v][\"Version\"] = v\n",
    "            \n",
    "# classCollection[\"gui5-0\"].head()"
   ]
  },
  {
   "cell_type": "code",
   "execution_count": 96,
   "metadata": {},
   "outputs": [],
   "source": [
    "packageCollection = {}\n",
    "for v in versions:\n",
    "    data = pd.read_csv('./metrics/package' + v + \".csv\", skiprows=1)\n",
    "    data.fillna(0)\n",
    "    for mod in modules:\n",
    "        rows = data[data[\"Package\"].str.endswith(\"jabref.\" + mod, na=False)]\n",
    "        if(not(rows.empty)):\n",
    "            packageCollection[mod + v] = rows\n",
    "            \n",
    "# packageCollection[\"gui5-0\"]"
   ]
  },
  {
   "cell_type": "code",
   "execution_count": 97,
   "metadata": {},
   "outputs": [],
   "source": [
    "modifCollection = {}\n",
    "modifdata = pd.read_csv(\"./csv/modifications.csv\")\n",
    "for mod in modules:\n",
    "    rows = modifdata[modifdata[\"file_name\"].str.contains(\"jabref.\" + mod, na=False)]\n",
    "    if(not(rows.empty)):\n",
    "        modifCollection[mod] = rows.fillna(0)\n",
    "        \n",
    "# modifCollection[\"gui\"]"
   ]
  },
  {
   "cell_type": "code",
   "execution_count": 98,
   "metadata": {},
   "outputs": [],
   "source": [
    "classdata = pd.concat(classCollection)\n",
    "packagedata = pd.concat(packageCollection)\n",
    "modifdata = pd.concat(modifCollection)\n",
    "\n",
    "classdata.reset_index(level=0,drop=True,inplace=True)\n",
    "packagedata.reset_index(level=0,drop=True,inplace=True)"
   ]
  },
  {
   "cell_type": "code",
   "execution_count": 99,
   "metadata": {},
   "outputs": [],
   "source": [
    "def versionEvolClass(metric,measure,mods):\n",
    "    d = classdata.loc[measure].pivot(index=\"Version\",columns=\"Module\",values=metric)\n",
    "    for mod in mods:\n",
    "        plt.plot(versions,d[mod],label=mod)\n",
    "    plt.title(\"Modules \" + measure + \" \" + metric + \" evolution\")\n",
    "    plt.legend()\n",
    "    plt.legend(bbox_to_anchor=(1.05, 1), loc='upper left', borderaxespad=0.)\n",
    "    plt.show()\n",
    "    return\n",
    "\n",
    "# versionEvolClass(\"CBO\",\"mean\",[\"gui\",\"logic\"])"
   ]
  },
  {
   "cell_type": "code",
   "execution_count": 93,
   "metadata": {},
   "outputs": [],
   "source": [
    "def barchartFor(vers,metric,measure):\n",
    "    for v in vers:\n",
    "        d = classdata[classdata[\"Version\"]==v].loc[measure]\n",
    "        d = d[[metric,\"Module\"]]\n",
    "        figarray = d.plot.bar(x=\"Module\",\n",
    "            subplots=True, \n",
    "            figsize=(10,4), \n",
    "            title= measure + \" measure for version \" + v)\n",
    "\n",
    "# barchartFor([\"5-0\",\"4-0\"],\"CBO\",\"mean\")"
   ]
  },
  {
   "cell_type": "code",
   "execution_count": null,
   "metadata": {},
   "outputs": [],
   "source": []
  }
 ],
 "metadata": {
  "kernelspec": {
   "display_name": "Python 3",
   "language": "python",
   "name": "python3"
  },
  "language_info": {
   "codemirror_mode": {
    "name": "ipython",
    "version": 3
   },
   "file_extension": ".py",
   "mimetype": "text/x-python",
   "name": "python",
   "nbconvert_exporter": "python",
   "pygments_lexer": "ipython3",
   "version": "3.6.9"
  }
 },
 "nbformat": 4,
 "nbformat_minor": 1
}