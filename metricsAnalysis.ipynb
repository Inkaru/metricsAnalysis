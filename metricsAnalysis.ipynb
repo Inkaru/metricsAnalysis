{
 "cells": [
  {
   "cell_type": "code",
   "execution_count": 11,
   "metadata": {},
   "outputs": [],
   "source": [
    "import os\n",
    "import pandas as pd\n",
    "import matplotlib.pyplot as plt\n",
    "\n",
    "modules = [\"architecture\",\"cli\",\"gui\",\"logic\",\"migrations\",\"model\",\"pdfimport\",\"preferences\",\"styletester\",\"shared\",\"collab\",\"event\",\"external\",\"bst\",\"exporter\",\"importer\",\"specialfields\",\"sql\",\"util\"]\n",
    "versions = [\"3-4\",\"3-5\",\"3-6\",\"3-7\",\"3-8\",\"4-0\",\"4-1\",\"4-2\",\"4-3\",\"5-0\"]\n",
    "\n",
    "classMetrics = [\"CBO\",\"CSOA\",\"DIT\",\"LCOM\",\"MPC\",\"NOC\",\"OCavg\",\"OPavg\",\"RFC\",\"WMC\"]\n",
    "packageMetrics = [\"AC\",\"C\",\"Ca\",\"Ce\",\"D\",\"I\",\"LOC\"]"
   ]
  },
  {
   "cell_type": "code",
   "execution_count": 50,
   "metadata": {},
   "outputs": [],
   "source": [
    "classCollection = {}\n",
    "for v in versions:\n",
    "    data = pd.read_csv('./metrics/class' + v + \".csv\", skiprows=1)\n",
    "    for mod in modules:\n",
    "        rows = data[data[\"Class\"].str.contains(\"jabref.\" + mod)]\n",
    "        if(not(rows.empty)):\n",
    "            classCollection[mod + v] = rows.describe()\n",
    "            classCollection[mod + v][\"Module\"] = mod\n",
    "            classCollection[mod + v][\"Version\"] = v\n",
    "            \n",
    "# classCollection[\"gui5-0\"].head()"
   ]
  },
  {
   "cell_type": "code",
   "execution_count": 51,
   "metadata": {},
   "outputs": [
    {
     "name": "stderr",
     "output_type": "stream",
     "text": [
      "/home/inkaru/PycharmProjects/metricsAnalysis/venv/lib/python3.6/site-packages/ipykernel_launcher.py:9: SettingWithCopyWarning: \n",
      "A value is trying to be set on a copy of a slice from a DataFrame.\n",
      "Try using .loc[row_indexer,col_indexer] = value instead\n",
      "\n",
      "See the caveats in the documentation: https://pandas.pydata.org/pandas-docs/stable/user_guide/indexing.html#returning-a-view-versus-a-copy\n",
      "  if __name__ == '__main__':\n",
      "/home/inkaru/PycharmProjects/metricsAnalysis/venv/lib/python3.6/site-packages/ipykernel_launcher.py:10: SettingWithCopyWarning: \n",
      "A value is trying to be set on a copy of a slice from a DataFrame.\n",
      "Try using .loc[row_indexer,col_indexer] = value instead\n",
      "\n",
      "See the caveats in the documentation: https://pandas.pydata.org/pandas-docs/stable/user_guide/indexing.html#returning-a-view-versus-a-copy\n",
      "  # Remove the CWD from sys.path while we load stuff.\n"
     ]
    },
    {
     "data": {
      "text/html": [
       "<div>\n",
       "<style scoped>\n",
       "    .dataframe tbody tr th:only-of-type {\n",
       "        vertical-align: middle;\n",
       "    }\n",
       "\n",
       "    .dataframe tbody tr th {\n",
       "        vertical-align: top;\n",
       "    }\n",
       "\n",
       "    .dataframe thead th {\n",
       "        text-align: right;\n",
       "    }\n",
       "</style>\n",
       "<table border=\"1\" class=\"dataframe\">\n",
       "  <thead>\n",
       "    <tr style=\"text-align: right;\">\n",
       "      <th></th>\n",
       "      <th>Package</th>\n",
       "      <th>AC(rec)</th>\n",
       "      <th>C(rec)</th>\n",
       "      <th>Ca</th>\n",
       "      <th>Ce</th>\n",
       "      <th>D</th>\n",
       "      <th>I</th>\n",
       "      <th>LOC(rec)</th>\n",
       "      <th>Version</th>\n",
       "      <th>Module</th>\n",
       "    </tr>\n",
       "  </thead>\n",
       "  <tbody>\n",
       "    <tr>\n",
       "      <th>5</th>\n",
       "      <td>org.jabref.gui</td>\n",
       "      <td>14.0</td>\n",
       "      <td>617.0</td>\n",
       "      <td>248.0</td>\n",
       "      <td>238.0</td>\n",
       "      <td>0.44</td>\n",
       "      <td>0.43</td>\n",
       "      <td>47818</td>\n",
       "      <td>5-0</td>\n",
       "      <td>gui</td>\n",
       "    </tr>\n",
       "  </tbody>\n",
       "</table>\n",
       "</div>"
      ],
      "text/plain": [
       "          Package  AC(rec)  C(rec)     Ca     Ce     D     I  LOC(rec)  \\\n",
       "5  org.jabref.gui     14.0   617.0  248.0  238.0  0.44  0.43     47818   \n",
       "\n",
       "  Version Module  \n",
       "5     5-0    gui  "
      ]
     },
     "execution_count": 51,
     "metadata": {},
     "output_type": "execute_result"
    }
   ],
   "source": [
    "packageCollection = {}\n",
    "for v in versions:\n",
    "    data = pd.read_csv('./metrics/package' + v + \".csv\", skiprows=1)\n",
    "    data.fillna(0)\n",
    "#     print(v)\n",
    "    for mod in modules:\n",
    "        rows = data[data[\"Package\"].str.endswith(\"jabref.\" + mod, na=False)]\n",
    "        if(not(rows.empty)):\n",
    "            rows[\"Version\"] = v\n",
    "            rows[\"Module\"] = mod\n",
    "            packageCollection[mod + v] = rows\n",
    "            \n",
    "packageCollection[\"gui5-0\"]"
   ]
  },
  {
   "cell_type": "code",
   "execution_count": 52,
   "metadata": {},
   "outputs": [],
   "source": [
    "modifCollection = {}\n",
    "modifdata = pd.read_csv(\"./csv/modifications.csv\")\n",
    "for mod in modules:\n",
    "    rows = modifdata[modifdata[\"file_name\"].str.contains(\"jabref.\" + mod, na=False)]\n",
    "    if(not(rows.empty)):\n",
    "        modifCollection[mod] = rows.fillna(0)\n",
    "        \n",
    "# modifCollection[\"gui\"]"
   ]
  },
  {
   "cell_type": "code",
   "execution_count": 53,
   "metadata": {},
   "outputs": [],
   "source": [
    "classdata = pd.concat(classCollection)\n",
    "packagedata = pd.concat(packageCollection)\n",
    "modifdata = pd.concat(modifCollection)\n",
    "\n",
    "classdata.reset_index(level=0,drop=True,inplace=True)\n",
    "packagedata.reset_index(level=1,drop=True,inplace=True)\n",
    "\n",
    "# packagedata.head()"
   ]
  },
  {
   "cell_type": "code",
   "execution_count": 54,
   "metadata": {},
   "outputs": [],
   "source": [
    "def versionEvolClass(metric,measure,mods):\n",
    "    d = classdata.loc[measure].pivot(index=\"Version\",columns=\"Module\",values=metric)\n",
    "    for mod in mods:\n",
    "        plt.plot(versions,d[mod],label=mod)\n",
    "    plt.title(\"Modules \" + measure + \" \" + metric + \" evolution\")\n",
    "    plt.legend()\n",
    "    plt.legend(bbox_to_anchor=(1.05, 1), loc='upper left', borderaxespad=0.)\n",
    "    plt.show()\n",
    "    return\n",
    "\n",
    "# versionEvolClass(\"CBO\",\"mean\",[\"gui\",\"logic\"])"
   ]
  },
  {
   "cell_type": "code",
   "execution_count": 55,
   "metadata": {},
   "outputs": [],
   "source": [
    "def barchartForClass(vers,metric,measure):\n",
    "    for v in vers:\n",
    "        d = classdata[classdata[\"Version\"]==v].loc[measure]\n",
    "        d = d[[metric,\"Module\"]]\n",
    "        figarray = d.plot.bar(x=\"Module\",\n",
    "            subplots=True, \n",
    "            figsize=(10,4), \n",
    "            title= measure + \" measure for version \" + v)\n",
    "\n",
    "# barchartForClass([\"5-0\",\"4-0\"],\"CBO\",\"mean\")"
   ]
  },
  {
   "cell_type": "code",
   "execution_count": 56,
   "metadata": {},
   "outputs": [],
   "source": [
    "def versionEvolPackage(metric,mods):\n",
    "    d = packagedata.pivot(index=\"Version\",columns=\"Module\",values=metric)\n",
    "    for mod in mods:\n",
    "        plt.plot(versions,d[mod],label=mod)\n",
    "    plt.title(\"Modules \" + metric + \" evolution\")\n",
    "    plt.legend()\n",
    "    plt.legend(bbox_to_anchor=(1.05, 1), loc='upper left', borderaxespad=0.)\n",
    "    plt.show()\n",
    "    return\n",
    "\n",
    "# versionEvolPackage(\"Ca\",[\"cli\",\"gui\"])"
   ]
  },
  {
   "cell_type": "code",
   "execution_count": 57,
   "metadata": {},
   "outputs": [],
   "source": [
    "def barchartForPackage(vers,metric):\n",
    "    for v in vers:\n",
    "        d = packagedata[packagedata[\"Version\"]==v]\n",
    "        d = d[[metric,\"Module\"]]\n",
    "        figarray = d.plot.bar(x=\"Module\",\n",
    "            subplots=True, \n",
    "            figsize=(10,4), \n",
    "            title= metric + \" for version \" + v)\n",
    "\n",
    "# barchartForPackage([\"5-0\",\"4-0\"],\"I\")"
   ]
  },
  {
   "cell_type": "code",
   "execution_count": null,
   "metadata": {},
   "outputs": [],
   "source": []
  }
 ],
 "metadata": {
  "kernelspec": {
   "display_name": "Python 3",
   "language": "python",
   "name": "python3"
  },
  "language_info": {
   "codemirror_mode": {
    "name": "ipython",
    "version": 3
   },
   "file_extension": ".py",
   "mimetype": "text/x-python",
   "name": "python",
   "nbconvert_exporter": "python",
   "pygments_lexer": "ipython3",
   "version": "3.6.9"
  }
 },
 "nbformat": 4,
 "nbformat_minor": 1
}
